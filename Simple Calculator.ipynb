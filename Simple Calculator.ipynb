{
 "cells": [
  {
   "cell_type": "code",
   "execution_count": null,
   "id": "83077650-a0ed-45bd-88e0-8a7125690482",
   "metadata": {},
   "outputs": [
    {
     "name": "stdout",
     "output_type": "stream",
     "text": [
      "+ Addition\n",
      "- Subtraction\n",
      "* Multiplication\n",
      "/ Division\n",
      "% Percentage\n",
      "2 Square\n",
      "@ Square root\n",
      "^ Power\n",
      "X Exit\n"
     ]
    },
    {
     "name": "stdin",
     "output_type": "stream",
     "text": [
      "What operation would you like to carry out? /\n",
      "Enter first number...  6\n",
      "Enter second number...  4\n"
     ]
    },
    {
     "name": "stdout",
     "output_type": "stream",
     "text": [
      "6 / 4 = 1.5\n",
      "+ Addition\n",
      "- Subtraction\n",
      "* Multiplication\n",
      "/ Division\n",
      "% Percentage\n",
      "2 Square\n",
      "@ Square root\n",
      "^ Power\n",
      "X Exit\n"
     ]
    }
   ],
   "source": [
    "while True:\n",
    "    print ('+ Addition')\n",
    "    print ('- Subtraction')\n",
    "    print ('* Multiplication')\n",
    "    print ('/ Division')\n",
    "    print ('% Percentage')\n",
    "    print ('2 Square')\n",
    "    print ('@ Square root')\n",
    "    print ('^ Power')\n",
    "    print ('X Exit')\n",
    "\n",
    "    calculator = input ('What operation would you like to carry out?'  )\n",
    "    if calculator.upper() == 'X':\n",
    "        print(\"You've closed calculator\")\n",
    "        break\n",
    "\n",
    "    number1 = int(input('Enter first number... '))\n",
    "    number2 = int(input('Enter second number... '))\n",
    "\n",
    "    if calculator == '+':\n",
    "        print (number1, '+', number2, '=', (number1+number2))\n",
    "    elif calculator == '-':\n",
    "        print (number1, '-', number2, '=', (number1-number2))\n",
    "    elif calculator == '*':\n",
    "        print (number1, '*', number2, '=',(number1*number2))               \n",
    "    elif calculator == '/':\n",
    "        if number2 == 0.0:\n",
    "            print (\"ERROR DIVING BY ZERO\")\n",
    "        else:\n",
    "            print (number1, '/', number2, '=',(number1/number2))\n",
    "    elif calculator == '%':\n",
    "        p = int(input('what percentage? '))\n",
    "        print ('(',number1, '/', number2,')','*',p,'%', '=', (number1/number2)*(p/100),'%')\n",
    "    elif calculator == '2':\n",
    "        print ('(',number1, '/', number2,')', '^2', '=', (number1/number2)**2)\n",
    "    elif calculator == '@':\n",
    "        import math\n",
    "        print (number1, '/', number2, '=', (math.sqrt (number1/number2)))\n",
    "    elif calculator == '^':\n",
    "        n = int(input('raise to power? ') )\n",
    "        print (number1, '/', number2,'^',n, '=', (number1/number2)**n)\n",
    "    else:\n",
    "        print (\"Sorry you've entered an invalid operation\")"
   ]
  }
 ],
 "metadata": {
  "kernelspec": {
   "display_name": "Python 3",
   "language": "python",
   "name": "python3"
  },
  "language_info": {
   "codemirror_mode": {
    "name": "ipython",
    "version": 3
   },
   "file_extension": ".py",
   "mimetype": "text/x-python",
   "name": "python",
   "nbconvert_exporter": "python",
   "pygments_lexer": "ipython3",
   "version": "3.8.8"
  }
 },
 "nbformat": 4,
 "nbformat_minor": 5
}
