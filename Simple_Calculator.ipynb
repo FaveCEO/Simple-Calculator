{
  "nbformat": 4,
  "nbformat_minor": 0,
  "metadata": {
    "colab": {
      "provenance": [],
      "authorship_tag": "ABX9TyPRByIGXWTZnJEhAzBNRdfg",
      "include_colab_link": true
    },
    "kernelspec": {
      "name": "python3",
      "display_name": "Python 3"
    },
    "language_info": {
      "name": "python"
    }
  },
  "cells": [
    {
      "cell_type": "markdown",
      "metadata": {
        "id": "view-in-github",
        "colab_type": "text"
      },
      "source": [
        "<a href=\"https://colab.research.google.com/github/favouranazodo/Simple-Calculator/blob/master/Simple_Calculator.ipynb\" target=\"_parent\"><img src=\"https://colab.research.google.com/assets/colab-badge.svg\" alt=\"Open In Colab\"/></a>"
      ]
    },
    {
      "cell_type": "code",
      "execution_count": 3,
      "metadata": {
        "colab": {
          "base_uri": "https://localhost:8080/"
        },
        "id": "EHPzBfZli61A",
        "outputId": "961c4205-6b25-4650-c55f-acc89b09e946"
      },
      "outputs": [
        {
          "output_type": "stream",
          "name": "stdout",
          "text": [
            "+ Addition\n",
            "- Subtraction\n",
            "* Multiplication\n",
            "/ Division\n",
            "% Percentage\n",
            "2 Square\n",
            "@ Square root\n",
            "^ Power\n",
            "X Exit\n",
            "What operation would you like to carry out?+\n",
            "Enter first number... 3\n",
            "Enter second number... 3\n",
            "3 + 3 = 6\n",
            "+ Addition\n",
            "- Subtraction\n",
            "* Multiplication\n",
            "/ Division\n",
            "% Percentage\n",
            "2 Square\n",
            "@ Square root\n",
            "^ Power\n",
            "X Exit\n",
            "What operation would you like to carry out?-\n",
            "Enter first number... 3\n",
            "Enter second number... 4\n",
            "3 - 4 = -1\n",
            "+ Addition\n",
            "- Subtraction\n",
            "* Multiplication\n",
            "/ Division\n",
            "% Percentage\n",
            "2 Square\n",
            "@ Square root\n",
            "^ Power\n",
            "X Exit\n",
            "What operation would you like to carry out?x\n",
            "You've closed calculator\n"
          ]
        }
      ],
      "source": [
        "class Calculator:\n",
        "    def addition(self,a,b):\n",
        "         return a+b\n",
        "    def subtraction(self,a,b):\n",
        "        return a-b\n",
        "    def multiplication(self,a,b):\n",
        "        return a*b\n",
        "    def division(self,a,b):\n",
        "        try:\n",
        "            return a/b\n",
        "            if b == 0.0:\n",
        "                raise ZeroDivisionError(\"Error dividing by zero\")\n",
        "        except ZeroDivisionError as zde:\n",
        "            print(zde)\n",
        "    def percentage(self, a, b):\n",
        "        return (a/b)*(p/100)\n",
        "    def square(self, a, b):\n",
        "        return (a/b)**2\n",
        "    def s_root(self, a, b):\n",
        "        import math\n",
        "        return math.sqrt (a/b)\n",
        "    def power(self, a, b):\n",
        "        return (a/b)**n\n",
        "\n",
        "cal = Calculator()\n",
        "        \n",
        "while True:\n",
        "    print ('+ Addition')\n",
        "    print ('- Subtraction')\n",
        "    print ('* Multiplication')\n",
        "    print ('/ Division')\n",
        "    print ('% Percentage')\n",
        "    print ('2 Square')\n",
        "    print ('@ Square root')\n",
        "    print ('^ Power')\n",
        "    print ('X Exit')\n",
        "\n",
        "    request = input ('What operation would you like to carry out?'  )\n",
        "    \n",
        "    if request.upper() == 'X':\n",
        "        print(\"You've closed calculator\")\n",
        "        break\n",
        "\n",
        "    number1 = int(input('Enter first number... '))\n",
        "    number2 = int(input('Enter second number... '))\n",
        "\n",
        "    if request == '+':\n",
        "        print (number1, '+', number2, '=', cal.addition(number1,number2))\n",
        "    elif request == '-':\n",
        "        print (number1, '-', number2, '=', cal.subtraction(number1,number2))\n",
        "    elif request == '*':\n",
        "        print (number1, '*', number2, '=', cal.multiplication(number1,number2))               \n",
        "    elif request == '/':\n",
        "        print (number1, '/', number2, '=',cal.division(number1,number2))\n",
        "    elif request == '%':\n",
        "        p = int(input('what percentage? '))\n",
        "        print ('(',number1, '/', number2,')','*',p,'%', '=', cal.percentage(number1,number2),'%')\n",
        "    elif request == '2':\n",
        "        print ('(',number1, '/', number2,')', '^2', '=', cal.square(number1,number2))\n",
        "    elif request == '@':\n",
        "        print (number1, '/', number2, '=', cal.s_root(number1,number2))\n",
        "    elif request == '^':\n",
        "        n = int(input('raise to power? ') )\n",
        "        print (number1, '/', number2,'^',n, '=', cal.power(number1,number2))\n",
        "    else:\n",
        "        print (\"Sorry you've entered an invalid operation\")"
      ]
    }
  ]
}